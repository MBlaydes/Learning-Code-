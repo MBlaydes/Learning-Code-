{
  "nbformat": 4,
  "nbformat_minor": 0,
  "metadata": {
    "colab": {
      "provenance": [],
      "authorship_tag": "ABX9TyO0aadPq/SDBp2ksCJLM9Mf",
      "include_colab_link": true
    },
    "kernelspec": {
      "name": "python3",
      "display_name": "Python 3"
    },
    "language_info": {
      "name": "python"
    }
  },
  "cells": [
    {
      "cell_type": "markdown",
      "metadata": {
        "id": "view-in-github",
        "colab_type": "text"
      },
      "source": [
        "<a href=\"https://colab.research.google.com/github/MBlaydes/Learning-Code-/blob/main/SortChallenge.ipynb\" target=\"_parent\"><img src=\"https://colab.research.google.com/assets/colab-badge.svg\" alt=\"Open In Colab\"/></a>"
      ]
    },
    {
      "cell_type": "code",
      "execution_count": null,
      "metadata": {
        "id": "7e9wJDoxFSgF"
      },
      "outputs": [],
      "source": []
    },
    {
      "cell_type": "code",
      "source": [
        "list = [5, 20, 3, 50, 89, 12, 34]\n",
        "\n",
        "list.sort()\n",
        "\n",
        "print(sorted(list))\n"
      ],
      "metadata": {
        "id": "6ocLjow1FeOy"
      },
      "execution_count": null,
      "outputs": []
    }
  ]
}
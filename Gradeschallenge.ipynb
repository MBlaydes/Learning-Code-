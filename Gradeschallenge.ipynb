{
  "nbformat": 4,
  "nbformat_minor": 0,
  "metadata": {
    "colab": {
      "provenance": [],
      "authorship_tag": "ABX9TyM11NofW/58X5A5Az3AdBgB",
      "include_colab_link": true
    },
    "kernelspec": {
      "name": "python3",
      "display_name": "Python 3"
    },
    "language_info": {
      "name": "python"
    }
  },
  "cells": [
    {
      "cell_type": "markdown",
      "metadata": {
        "id": "view-in-github",
        "colab_type": "text"
      },
      "source": [
        "<a href=\"https://colab.research.google.com/github/MBlaydes/Learning-Code-/blob/main/Gradeschallenge.ipynb\" target=\"_parent\"><img src=\"https://colab.research.google.com/assets/colab-badge.svg\" alt=\"Open In Colab\"/></a>"
      ]
    },
    {
      "cell_type": "code",
      "execution_count": null,
      "metadata": {
        "id": "HeXMQRIBEmIj"
      },
      "outputs": [],
      "source": []
    },
    {
      "cell_type": "code",
      "source": [
        "g = int(input(\"What's your grade?\"))\n",
        "\n",
        "if (g < 40):\n",
        "    print(\"Fail\")\n",
        "   \n",
        "\n",
        "number == g\n",
        "multiple == 5\n",
        "return multiple * round(number / multiple)\n",
        "   \n",
        "print (x, y)\n",
        "\n",
        "elif (40 < g < 80):\n",
        "    print(\"Pass\")\n",
        "       \n",
        "\n",
        "elif (g > 80):\n",
        "    print(\"Distinction\")\n",
        "       \n",
        "\n"
      ],
      "metadata": {
        "id": "NzYTzAfjE2I0"
      },
      "execution_count": null,
      "outputs": []
    }
  ]
}
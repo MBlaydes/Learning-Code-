{
  "nbformat": 4,
  "nbformat_minor": 0,
  "metadata": {
    "colab": {
      "provenance": [],
      "authorship_tag": "ABX9TyOmvqKwQ9R2uFZPCm6hHGyk",
      "include_colab_link": true
    },
    "kernelspec": {
      "name": "python3",
      "display_name": "Python 3"
    },
    "language_info": {
      "name": "python"
    }
  },
  "cells": [
    {
      "cell_type": "markdown",
      "metadata": {
        "id": "view-in-github",
        "colab_type": "text"
      },
      "source": [
        "<a href=\"https://colab.research.google.com/github/MBlaydes/Learning-Code-/blob/main/HideDigitsChallenge.ipynb\" target=\"_parent\"><img src=\"https://colab.research.google.com/assets/colab-badge.svg\" alt=\"Open In Colab\"/></a>"
      ]
    },
    {
      "cell_type": "code",
      "execution_count": null,
      "metadata": {
        "id": "mFCPRHfKFtEY"
      },
      "outputs": [],
      "source": [
        "n = int(input(\"Please type your 16 digit card number with spaces\"))\n",
        "\n",
        "\n",
        "for (argv[0 : 13], argv[0 : 13] == \"X\"\n",
        "print(n)"
      ]
    }
  ]
}